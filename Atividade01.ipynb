{
  "nbformat": 4,
  "nbformat_minor": 0,
  "metadata": {
    "colab": {
      "provenance": [],
      "authorship_tag": "ABX9TyPuLNHqtb+0/1mkuH78XSe1",
      "include_colab_link": true
    },
    "kernelspec": {
      "name": "python3",
      "display_name": "Python 3"
    },
    "language_info": {
      "name": "python"
    }
  },
  "cells": [
    {
      "cell_type": "markdown",
      "metadata": {
        "id": "view-in-github",
        "colab_type": "text"
      },
      "source": [
        "<a href=\"https://colab.research.google.com/github/Ribeirozkji/minhas-atividades-ads/blob/main/Atividade01.ipynb\" target=\"_parent\"><img src=\"https://colab.research.google.com/assets/colab-badge.svg\" alt=\"Open In Colab\"/></a>"
      ]
    },
    {
      "cell_type": "markdown",
      "source": [
        "1.. Produto e verificação de valor acima da média nacional"
      ],
      "metadata": {
        "id": "ofuTDM9GUnMG"
      }
    },
    {
      "cell_type": "code",
      "source": [
        "\n",
        "\n",
        "media_arroz = 9.00\n",
        "media_feijao = 12.00\n",
        "media_carne = 30.00\n",
        "media_macarrao = 5.00\n",
        "\n",
        "\n",
        "n1 = float(input(\"Digite o valor do arroz: \"))\n",
        "print(n1)\n",
        "n2 = float(input(\"Digite o valor do feijão: \"))\n",
        "print(n2)\n",
        "n3 = float(input(\"Digite o valor da carne: \"))\n",
        "print(n3)\n",
        "n4 = float(input(\"Digite o valor do macarrão: \"))\n",
        "print(n4)\n",
        "\n",
        "if n1 > media_arroz:\n",
        "  print(\"arroz acima da média\")\n",
        "else:\n",
        "  print(\"arroz abaixo da média\")\n",
        "\n",
        "if n2 > media_feijao:\n",
        "  print(\"feijão acima da média\")\n",
        "else:\n",
        "  print(\"feijão abaixo da média\")\n",
        "if n3 > media_carne:\n",
        "  print(\"carne acima da média\")\n",
        "else:\n",
        "  print(\"carne abaixo da média\")\n",
        "if n4 > media_macarrao:\n",
        "  print(\"macarrão acima da média\")\n",
        "else:\n",
        "  print(\"macarrão abaixo da média\")"
      ],
      "metadata": {
        "colab": {
          "base_uri": "https://localhost:8080/"
        },
        "id": "7HGTirbpQy5g",
        "outputId": "19ff0a08-2471-407c-94b7-052e34436fe9"
      },
      "execution_count": null,
      "outputs": [
        {
          "output_type": "stream",
          "name": "stdout",
          "text": [
            "Digite o valor do arroz: 12\n",
            "12.0\n",
            "Digite o valor do feijão: 20\n",
            "20.0\n",
            "Digite o valor da carne: 50\n",
            "50.0\n",
            "Digite o valor do macarrão: 10\n",
            "10.0\n",
            "arroz acima da média\n",
            "feijão acima da média\n",
            "carne acima da média\n",
            "macarrão acima da média\n"
          ]
        }
      ]
    },
    {
      "cell_type": "markdown",
      "source": [
        "2. Determinação de número par/ímpar e positivo/negativo\n"
      ],
      "metadata": {
        "id": "eqKMwBB5U4Ea"
      }
    },
    {
      "cell_type": "code",
      "source": [
        "num = int(input(\"Digite um número inteiro: \"))\n",
        "if num >= 0:\n",
        "    print(\"O número é positivo.\")\n",
        "else:\n",
        "    print(\"O número é negativo.\")\n",
        "if num % 2 == 0:\n",
        "    print(\"O número é par.\")\n",
        "else:\n",
        "    print(\"O número é ímpar.\")"
      ],
      "metadata": {
        "colab": {
          "base_uri": "https://localhost:8080/"
        },
        "id": "V0ZBMrNgU7MD",
        "outputId": "b028d58d-192f-498a-bb13-ecf1024cb530"
      },
      "execution_count": null,
      "outputs": [
        {
          "output_type": "stream",
          "name": "stdout",
          "text": [
            "Digite um número inteiro: 10\n",
            "O número é par.\n"
          ]
        }
      ]
    },
    {
      "cell_type": "markdown",
      "source": [
        "3. Média das notas e situação do aluno"
      ],
      "metadata": {
        "id": "rVL4ZHyeVdIi"
      }
    },
    {
      "cell_type": "code",
      "source": [
        "n1 = int(input(\"digite a primeira nota\"))\n",
        "n2 = int(input(\"digite a segunda nota\"))\n",
        "n3 = int(input(\"digite a terceira nota\"))\n",
        "media = (n1 + n2 + n3) / 2\n",
        "\n",
        "\n",
        "if media := 10:\n",
        "  print(\"aprovado com louvor\")\n",
        "elif media >= 7:\n",
        "  print(\"aprovado\")\n",
        "else:\n",
        "  print(\"reprovado\")"
      ],
      "metadata": {
        "colab": {
          "base_uri": "https://localhost:8080/"
        },
        "id": "SQDf-PEyVkGb",
        "outputId": "c7fa9c56-23a6-42b1-fa61-96a7288be383"
      },
      "execution_count": null,
      "outputs": [
        {
          "output_type": "stream",
          "name": "stdout",
          "text": [
            "digite a primeira nota 4\n",
            "digite a segunda nota 3 \n",
            "digite a terceira nota 10\n",
            "aprovado com louvor\n"
          ]
        }
      ]
    },
    {
      "cell_type": "markdown",
      "source": [
        "4. Conversão de Fahrenheit para Celsius"
      ],
      "metadata": {
        "id": "WKgIKOzyYrLh"
      }
    },
    {
      "cell_type": "code",
      "source": [
        "fahrenheit = float(input(\"Digite a temperatura\"))\n",
        "print(\"A temperatura em fahrenheit é :\", fahrenheit)\n",
        "\n",
        "celsius = (fahrenheit - 32) * 5 / 9\n",
        "print(\"A Temperatura em celsius é \", celsius)"
      ],
      "metadata": {
        "colab": {
          "base_uri": "https://localhost:8080/"
        },
        "id": "ya5HvbYNYt8f",
        "outputId": "a5471e4f-b9fa-4cc1-bc2e-59edb329bf75"
      },
      "execution_count": null,
      "outputs": [
        {
          "output_type": "stream",
          "name": "stdout",
          "text": [
            "Digite a temperatura 100\n",
            "A temperatura em fahrenheit é : 100.0\n",
            "A Temperatura em celsius é  37.77777777777778\n"
          ]
        }
      ]
    },
    {
      "cell_type": "markdown",
      "source": [
        "5. Cálculo de votos em uma eleição"
      ],
      "metadata": {
        "id": "s62z4IHRa1Bm"
      }
    },
    {
      "cell_type": "code",
      "source": [
        "candidato1 = int(input(\"Digite o número de votos do candidato 1:\"))\n",
        "candidato2 = int(input(\"Digite o número de votos do candidato 2:\"))\n",
        "candidato3 = int(input(\"Digite o número de votos do candidato 3:\"))\n",
        "\n",
        "if candidato1 > candidato2 and candidato1 > candidato3:\n",
        "  print(\"O candidato 1 venceu a eleição com\", candidato1, \"votos.\")\n",
        "elif candidato2 > candidato1 and candidato2 > candidato3:\n",
        "   print(\"O candidato 2 venceu a eleição com\", candidato2, \"votos.\")\n",
        "else:\n",
        "   print(\"O candidato 3 venceu a eleição com\", candidato3, \"votos.\")"
      ],
      "metadata": {
        "colab": {
          "base_uri": "https://localhost:8080/"
        },
        "id": "rgpsLWoua-5f",
        "outputId": "83fb3269-79b7-48c0-bb12-b77e3b1b66b1"
      },
      "execution_count": null,
      "outputs": [
        {
          "output_type": "stream",
          "name": "stdout",
          "text": [
            "Digite o número de votos do candidato 1:100\n",
            "Digite o número de votos do candidato 2: 200\n",
            "Digite o número de votos do candidato 3: 300\n",
            "O candidato 3 venceu a eleição com 300 votos.\n"
          ]
        }
      ]
    },
    {
      "cell_type": "markdown",
      "source": [
        "6. Análise de altura e sexo"
      ],
      "metadata": {
        "id": "yVgeduwldVHM"
      }
    },
    {
      "cell_type": "code",
      "source": [],
      "metadata": {
        "id": "LMCCOQuydXnl"
      },
      "execution_count": null,
      "outputs": []
    },
    {
      "cell_type": "markdown",
      "source": [
        "7. Cálculo do lucro de uma empresa\n"
      ],
      "metadata": {
        "id": "J_C3bUqErDlL"
      }
    },
    {
      "cell_type": "code",
      "source": [
        "Valor_vendas = float(input(\"Digite o valor das vendas: \"))\n",
        "Lucro_Anual = Valor_vendas * 0.23\n",
        "print(\"O Lucro Anual é : \", Lucro_Anual,)"
      ],
      "metadata": {
        "colab": {
          "base_uri": "https://localhost:8080/"
        },
        "id": "NNArXe8RrG6I",
        "outputId": "17e7cac5-705c-40ff-a1c7-f914448b4184"
      },
      "execution_count": null,
      "outputs": [
        {
          "output_type": "stream",
          "name": "stdout",
          "text": [
            "Digite o valor das vendas: 1000\n",
            "O Lucro Anual é :  230.0\n"
          ]
        }
      ]
    },
    {
      "cell_type": "markdown",
      "source": [
        "8. Verificação de números primos"
      ],
      "metadata": {
        "id": "iovBWY5NsDpC"
      }
    },
    {
      "cell_type": "code",
      "source": [
        "Num_primo = float(input(\"Digite um número: \"))\n",
        "if Num_primo %  Num_primo == 1:\n",
        "  print(\"É Número Primo\")\n",
        "else:\n",
        "  print(\"Não é Número Primo\")"
      ],
      "metadata": {
        "colab": {
          "base_uri": "https://localhost:8080/"
        },
        "id": "VN9Xe5YtsS7j",
        "outputId": "f1f9b2ab-6a68-4030-b421-edbc64924df1"
      },
      "execution_count": null,
      "outputs": [
        {
          "output_type": "stream",
          "name": "stdout",
          "text": [
            "Digite um número: 10\n",
            "Não é Número Primo\n"
          ]
        }
      ]
    },
    {
      "cell_type": "markdown",
      "source": [
        "9. Cálculo do fatorial de um número\n"
      ],
      "metadata": {
        "id": "6GIjfULPx2PX"
      }
    },
    {
      "cell_type": "code",
      "source": [
        "num = int(input(\"Digite um Número\"))\n",
        "fatorial = 1\n",
        "\n",
        "for i in range(1, num+1):\n",
        "  fatorial *= i\n",
        "\n",
        "print(\"Fatorial de\", num, \"=\", fatorial)"
      ],
      "metadata": {
        "colab": {
          "base_uri": "https://localhost:8080/"
        },
        "id": "EJmq6zSzx691",
        "outputId": "18f3b84c-ace1-49cd-f9ef-bcfb20014603"
      },
      "execution_count": 4,
      "outputs": [
        {
          "output_type": "stream",
          "name": "stdout",
          "text": [
            "Digite um Número10\n",
            "Fatorial de 10 = 3628800\n"
          ]
        }
      ]
    },
    {
      "cell_type": "markdown",
      "source": [
        "10. Calculadora de desconto"
      ],
      "metadata": {
        "id": "QvMLt0p-zpBB"
      }
    },
    {
      "cell_type": "code",
      "source": [
        "Valor_Original = int(input(\"Digite o valor original de um produto: \"))\n",
        "desconto = float(input(\"Digite a porcentagem do desconto\"))\n",
        "desconto = desconto / 100\n",
        "\n",
        "Valor_final = Valor_Original - (Valor_Original * desconto)\n",
        "print(\"O Valor Final com Desconto é : \", Valor_final)"
      ],
      "metadata": {
        "colab": {
          "base_uri": "https://localhost:8080/"
        },
        "id": "t-B5BkyIzqis",
        "outputId": "4a7aea82-c1be-4351-9d0f-9c4c3a2efcb1"
      },
      "execution_count": 7,
      "outputs": [
        {
          "output_type": "stream",
          "name": "stdout",
          "text": [
            "Digite o valor original de um produto: 200\n",
            "Digite a porcentagem do desconto25\n",
            "O Valor Final com Desconto é :  150.0\n"
          ]
        }
      ]
    },
    {
      "cell_type": "markdown",
      "source": [
        "11. Conversão de horas para minutos e segundos"
      ],
      "metadata": {
        "id": "xRptIj4k5dUx"
      }
    },
    {
      "cell_type": "code",
      "source": [
        "Horas = int(input(\"Digite o Tempo em Horas\"))\n",
        "minutos = Horas * 60\n",
        "segundos =Horas * 3600\n",
        "print(f\"{Horas} hora(s) equivalem a {minutos} minuto(s) e {segundos} segundo(s).\")\n",
        "\n"
      ],
      "metadata": {
        "colab": {
          "base_uri": "https://localhost:8080/"
        },
        "id": "JdwmXLCw5f_9",
        "outputId": "cc4e5ec3-9793-4b2d-8f4f-78c7242f6fb5"
      },
      "execution_count": 10,
      "outputs": [
        {
          "output_type": "stream",
          "name": "stdout",
          "text": [
            "Digite o Tempo em Horas 100\n",
            "100 hora(s) equivalem a 6000 minuto(s) e 360000 segundo(s).\n"
          ]
        }
      ]
    },
    {
      "cell_type": "markdown",
      "source": [
        "12. Cálculo da média ponderada"
      ],
      "metadata": {
        "id": "5xOOg4se-EW3"
      }
    },
    {
      "cell_type": "code",
      "source": [
        "nota1 = int(input(\"Digite a sua primeira nota\"))\n",
        "peso1 = int(input(\"Escreva o valor do primeiro peso\"))\n",
        "\n",
        "nota2 = int(input(\"Digite a segunda nota\"))\n",
        "peso2 = int(input(\"Escreva o valor do segundo peso\"))\n",
        "\n",
        "nota3 = int(input(\"Digite a terceira nota\"))\n",
        "peso3 = int(input(\"Escreva o valor do terceiro peso\"))\n",
        "\n",
        "soma_geral = (nota1 * peso1) + (nota2 * peso2) + (nota3 * peso3)\n",
        "\n",
        "soma_pesos = peso1 + peso2 + peso3\n",
        "\n",
        "media_ponderada = soma_geral / soma_pesos\n",
        "\n",
        "print(\"A Média Ponderada Do Aluno é: \", media_ponderada)\n"
      ],
      "metadata": {
        "colab": {
          "base_uri": "https://localhost:8080/"
        },
        "id": "670SE-1D-G_U",
        "outputId": "6e7b8ec9-80a7-4128-89da-6d9b8ac00272"
      },
      "execution_count": 11,
      "outputs": [
        {
          "output_type": "stream",
          "name": "stdout",
          "text": [
            "Digite a sua primeira nota 10\n",
            "Escreva o valor do primeiro peso 20\n",
            "Digite a segunda nota 10\n",
            "Escreva o valor do segundo peso5\n",
            "Digite a terceira nota 0 \n",
            "Escreva o valor do terceiro peso 4\n",
            "A Média Ponderada Do Aluno é:  8.620689655172415\n"
          ]
        }
      ]
    }
  ]
}